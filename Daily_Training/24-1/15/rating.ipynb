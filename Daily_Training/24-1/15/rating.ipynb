{
 "cells": [
  {
   "cell_type": "code",
   "execution_count": 1,
   "metadata": {},
   "outputs": [
    {
     "name": "stdout",
     "output_type": "stream",
     "text": [
      "╒══════════════╤════════════╤═════════════╤══════════╕\n",
      "│ Handle       │ Rank       │   MaxRating │   Rating │\n",
      "╞══════════════╪════════════╪═════════════╪══════════╡\n",
      "│ awh          │ expert     │        1723 │     1723 │\n",
      "├──────────────┼────────────┼─────────────┼──────────┤\n",
      "│ xingliu      │ specialist │        1513 │     1513 │\n",
      "├──────────────┼────────────┼─────────────┼──────────┤\n",
      "│ yumingjs     │ pupil      │        1351 │     1351 │\n",
      "├──────────────┼────────────┼─────────────┼──────────┤\n",
      "│ demon.       │ pupil      │        1406 │     1313 │\n",
      "├──────────────┼────────────┼─────────────┼──────────┤\n",
      "│ huanshao2341 │ pupil      │        1411 │     1250 │\n",
      "├──────────────┼────────────┼─────────────┼──────────┤\n",
      "│ Souture      │ newbie     │        1101 │     1011 │\n",
      "├──────────────┼────────────┼─────────────┼──────────┤\n",
      "│ TrispdTit    │ newbie     │         963 │      963 │\n",
      "├──────────────┼────────────┼─────────────┼──────────┤\n",
      "│ Michael_kk   │ newbie     │         880 │      880 │\n",
      "├──────────────┼────────────┼─────────────┼──────────┤\n",
      "│ Abinnn       │ newbie     │         760 │      760 │\n",
      "├──────────────┼────────────┼─────────────┼──────────┤\n",
      "│ bmxxf        │ newbie     │         709 │      709 │\n",
      "├──────────────┼────────────┼─────────────┼──────────┤\n",
      "│ hiGh_liGht   │ newbie     │         573 │      573 │\n",
      "├──────────────┼────────────┼─────────────┼──────────┤\n",
      "│ madala       │ newbie     │         388 │      388 │\n",
      "├──────────────┼────────────┼─────────────┼──────────┤\n",
      "│ FANGXING     │ newbie     │         380 │      380 │\n",
      "├──────────────┼────────────┼─────────────┼──────────┤\n",
      "│ EXeeel       │ newbie     │         362 │      362 │\n",
      "├──────────────┼────────────┼─────────────┼──────────┤\n",
      "│ F_Camellia   │ newbie     │         357 │      357 │\n",
      "├──────────────┼────────────┼─────────────┼──────────┤\n",
      "│ gthx         │ newbie     │         357 │      357 │\n",
      "├──────────────┼────────────┼─────────────┼──────────┤\n",
      "│ Tsavior      │ newbie     │         357 │      357 │\n",
      "├──────────────┼────────────┼─────────────┼──────────┤\n",
      "│ JJJi0        │ newbie     │         357 │      357 │\n",
      "├──────────────┼────────────┼─────────────┼──────────┤\n",
      "│ Y-demon.     │ newbie     │         355 │      355 │\n",
      "├──────────────┼────────────┼─────────────┼──────────┤\n",
      "│ Qmaple       │ newbie     │         354 │      354 │\n",
      "╘══════════════╧════════════╧═════════════╧══════════╛\n"
     ]
    }
   ],
   "source": [
    "import json\n",
    "import requests \n",
    "from tabulate import tabulate\n",
    "\n",
    "nwnu = {'xingliu', 'huanshao2341', 'yumingjs', 'Souture', 'Abinnn', 'Michael_kk', 'NGU_Griken', 'JJJi0', 'madala', 'qqqqqs', 'awh', 'F_Camellia', 'Qmaple', 'jhSUN', 'Demon.', 'keoyuuu', 'Exeeel', 'FANGXING', 'madily', 'Y-demon.', 'hiGh_liGht', 'ZGSJHEX', 'CSeng', 'W-Rainbow', 'TrispdTit', 'OloveY', 'gthx', 'chastity', 'bmxxf', 'Double-yu', 'yzzhou', 'XDing', 'NervousLEO', 'AzureHorizon', 'Tsavior', 'SunRong.', 'Xuyyang', 'jarry-xl'}\n",
    "\n",
    "ok = 0\n",
    "\n",
    "d = []\n",
    "\n",
    "for name in nwnu:\n",
    "  response = requests.get(\"https://codeforces.com/api/user.info?handles=\" + name)\n",
    "  res = response.json()\n",
    "  if any('result' in i for i in res):\n",
    "    ok = 1\n",
    "  else:\n",
    "    # print(name)\n",
    "    continue\n",
    "  info = res['result']\n",
    "  if any('rating' in i for i in info[0]):\n",
    "    ok = 1\n",
    "  else:\n",
    "    # print(name)\n",
    "    continue\n",
    "  rating = info[0]['rating']\n",
    "  handle = info[0]['handle']\n",
    "  rank = info[0]['rank']\n",
    "  maxrating = info[0]['maxRating']\n",
    "  d.append([handle, rank, maxrating, rating])\n",
    "  \n",
    "d.sort(key=lambda x: -x[3])\n",
    "print(tabulate(d, headers=[\"Handle\", \"Rank\", \"MaxRating\", \"Rating\"], tablefmt=\"fancy_grid\"))\n",
    "\n",
    "# , 'Souture', 'Abinnn', 'Michael_kk', 'NGU_Griken', 'JJJi0', 'madala', 'qqqqqs', 'awh', 'F_Camellia', 'Qmaple', 'jhSUN', 'Demon.', 'keoyuuu', 'Exeeel', 'FANGXING', 'madily', 'Y-demon.', 'hiGh_liGht', 'ZGSJHEX', 'CSeng', 'W-Rainbow', 'TrispdTit', 'OloveY', 'gthx', 'chastity', 'bmxxf', 'Double-yu', 'yzzhou', 'XDing', 'NervousLEO', 'AzureHorizon', 'Tsavior', 'SunRong.', 'Xuyyang', 'jarry-xl'\n"
   ]
  },
  {
   "cell_type": "code",
   "execution_count": null,
   "metadata": {},
   "outputs": [],
   "source": []
  }
 ],
 "metadata": {
  "kernelspec": {
   "display_name": "Python 3 (ipykernel)",
   "language": "python",
   "name": "python3"
  },
  "language_info": {
   "codemirror_mode": {
    "name": "ipython",
    "version": 3
   },
   "file_extension": ".py",
   "mimetype": "text/x-python",
   "name": "python",
   "nbconvert_exporter": "python",
   "pygments_lexer": "ipython3",
   "version": "3.9.18"
  }
 },
 "nbformat": 4,
 "nbformat_minor": 2
}
